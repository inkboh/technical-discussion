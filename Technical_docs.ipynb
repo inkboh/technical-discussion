{
  "nbformat": 4,
  "nbformat_minor": 0,
  "metadata": {
    "colab": {
      "name": "Technical-docs.ipynb",
      "provenance": [],
      "authorship_tag": "ABX9TyOT8Qi3NWDlOz9j1PyDh+hn",
      "include_colab_link": true
    },
    "kernelspec": {
      "name": "python3",
      "display_name": "Python 3"
    },
    "language_info": {
      "name": "python"
    }
  },
  "cells": [
    {
      "cell_type": "markdown",
      "metadata": {
        "id": "view-in-github",
        "colab_type": "text"
      },
      "source": [
        "<a href=\"https://colab.research.google.com/github/inkboh/technical-discussion/blob/main/Technical_docs.ipynb\" target=\"_parent\"><img src=\"https://colab.research.google.com/assets/colab-badge.svg\" alt=\"Open In Colab\"/></a>"
      ]
    },
    {
      "cell_type": "markdown",
      "metadata": {
        "id": "-CcC5KOk5EEq"
      },
      "source": [
        "# This is an h1 tag\n",
        "## This is an h2 tag\n",
        "### This is an h3 tag\n",
        "\n",
        "*This should be italic*\n",
        "_This will also be italic_\n",
        "\n",
        "**This should be bold**\n",
        "__This should also be bold__\n",
        "\n",
        "__You_can *combine **them"
      ]
    },
    {
      "cell_type": "code",
      "metadata": {
        "colab": {
          "base_uri": "https://localhost:8080/"
        },
        "id": "hbenuHna6eA_",
        "outputId": "1b06be56-0231-4151-cb13-2963aed5bc98"
      },
      "source": [
        "print(\"Hello world!\")"
      ],
      "execution_count": 1,
      "outputs": [
        {
          "output_type": "stream",
          "text": [
            "Hello world!\n"
          ],
          "name": "stdout"
        }
      ]
    }
  ]
}